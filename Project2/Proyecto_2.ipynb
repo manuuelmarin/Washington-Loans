{
 "cells": [
  {
   "cell_type": "markdown",
   "id": "14c6b25e-c063-4d5e-bcd6-f4ef84b666c2",
   "metadata": {},
   "source": [
    "# 1.Cargamos los datos"
   ]
  },
  {
   "cell_type": "code",
   "execution_count": 112,
   "id": "223f9920-dc00-49f5-bd37-5f99d7072e68",
   "metadata": {},
   "outputs": [],
   "source": [
    "library(caret)\n",
    "library(dplyr)"
   ]
  },
  {
   "cell_type": "code",
   "execution_count": 132,
   "id": "f7534621-b4be-4443-aea9-6c239463b61d",
   "metadata": {},
   "outputs": [],
   "source": [
    "datos=read.csv('./Washington_State_HDMA.csv',sep=\";\",dec=\",\")\n",
    "\n",
    "#arreglamos variables que nos causan problemas\n",
    "datos$Tract <- as.numeric(datos$Tract)\n",
    "datos$rate_spread <- ifelse(is.na(datos$rate_spread), 1, datos$rate_spread)\n",
    "\n",
    "#creación de la variable target en binario\n",
    "datos$Accion_tomada[datos$Accion_tomada == \"Aprobado\"] <- \"Haprobado\"\n"
   ]
  },
  {
   "cell_type": "code",
   "execution_count": 133,
   "id": "4e4572e1-5c8b-415a-afba-9e502bfe5aa3",
   "metadata": {},
   "outputs": [],
   "source": [
    "datos = datos %>% \n",
    "  filter(!is.na(Ingreso_solicit))"
   ]
  },
  {
   "cell_type": "code",
   "execution_count": 134,
   "id": "c32fa519-0695-409c-a267-2452974c927c",
   "metadata": {},
   "outputs": [],
   "source": [
    "datos= datos[ datos$gravamen!='Not applicable', ]"
   ]
  },
  {
   "cell_type": "markdown",
   "id": "9f129afc-9c4c-49e9-9594-921c75b7a00b",
   "metadata": {},
   "source": [
    "# 2.Seleccionamos las variables que sean de utilidad"
   ]
  },
  {
   "cell_type": "code",
   "execution_count": 136,
   "id": "b52796a7-f475-428d-878d-1984b449256c",
   "metadata": {
    "scrolled": true
   },
   "outputs": [],
   "source": [
    "variables=datos[,c(\n",
    "  \"Tract\"\n",
    "  , \"rate_spread\"\n",
    "  , \"population\"                    \n",
    "  , \"minorias\"           \n",
    "  , \"nro_viv_ocupadas\"\n",
    "  , \"nro_unid_residenciales\" \n",
    "  , \"loan_amount_000s\"              \n",
    "  , \"Ingreso_medio_fam\"      \n",
    "  , \"Ingreso_solicit\"         \n",
    "  #, \"nro_cliente\"               \n",
    "  , \"tipo_comprador\"           \n",
    "  , \"tipo_propiedad\"            \n",
    "  , \"preaprovacion\"              \n",
    "  , \"tipo_ocupacion\"          \n",
    "  , \"msamd_name\"                    \n",
    "  , \"loan_type_name\"                \n",
    "  , \"proposito\"             \n",
    "  , \"gravamen\"              \n",
    "  #, \"hoepa\"             \n",
    "  , \"edit_status_name\"              \n",
    "  #, \"denegacion2\"          \n",
    "  #, \"denegacion1\"          \n",
    "  #, \"condado\"                   \n",
    "  , \"sexo_coapp\"         \n",
    "  , \"Raza_coapp\"      \n",
    "  , \"etnia_coapp\"   \n",
    "  #, \"census_tract_number\"           \n",
    "  , \"Sexo\"            \n",
    "  , \"Raza\"         \n",
    "  , \"Etnia\"      \n",
    "  , \"agency_abbr\"\n",
    "  , \"Accion_tomada\")]\n",
    "\n",
    "aprobacion = variables$Accion_tomada==\"Haprobado\""
   ]
  },
  {
   "cell_type": "markdown",
   "id": "9e3ed375-b5df-418a-8dbd-bc1eb41d0b5d",
   "metadata": {},
   "source": [
    "# 3.Modelos"
   ]
  },
  {
   "cell_type": "markdown",
   "id": "7a16677e-e0fd-4142-98a3-fbe32fbd9e06",
   "metadata": {},
   "source": [
    "## 3.1 Primer modelo con todas las variables"
   ]
  },
  {
   "cell_type": "code",
   "execution_count": 137,
   "id": "67f93c28-9ebf-425c-b936-b8c280a68cdd",
   "metadata": {
    "scrolled": true
   },
   "outputs": [
    {
     "name": "stderr",
     "output_type": "stream",
     "text": [
      "Warning message:\n",
      "\"glm.fit: fitted probabilities numerically 0 or 1 occurred\"\n"
     ]
    },
    {
     "data": {
      "text/plain": [
       "\n",
       "Call:\n",
       "glm(formula = aprobacion ~ Tract + rate_spread + minorias + nro_viv_ocupadas + \n",
       "    nro_unid_residenciales + loan_amount_000s + Ingreso_medio_fam + \n",
       "    Ingreso_solicit + tipo_comprador + tipo_propiedad + preaprovacion + \n",
       "    tipo_ocupacion + loan_type_name + proposito + gravamen + \n",
       "    edit_status_name + sexo_coapp + etnia_coapp + Raza + Etnia + \n",
       "    agency_abbr, family = \"binomial\", data = variables)\n",
       "\n",
       "Coefficients: (1 not defined because of singularities)\n",
       "                                            Estimate Std. Error  z value\n",
       "(Intercept)                               -1.208e+01  3.167e+02   -0.038\n",
       "Tract                                      4.722e-03  2.408e-04   19.608\n",
       "rate_spread                                3.219e+01  1.511e+02    0.213\n",
       "minorias                                  -2.048e-03  4.271e-04   -4.795\n",
       "nro_viv_ocupadas                          -9.518e-05  2.523e-05   -3.772\n",
       "nro_unid_residenciales                     6.875e-05  1.811e-05    3.797\n",
       "loan_amount_000s                           2.321e-04  3.060e-05    7.585\n",
       "Ingreso_medio_fam                          8.730e-06  5.414e-07   16.126\n",
       "Ingreso_solicit                            7.598e-04  4.666e-05   16.285\n",
       "tipo_compradorCommercial bank,etc          3.632e-01  3.072e+02    0.001\n",
       "tipo_compradorFannie Mae (FNMA)            7.141e-02  2.860e+02    0.000\n",
       "tipo_compradorFarmer Mac (FAMC)            6.230e-01  4.445e+03    0.000\n",
       "tipo_compradorFreddie Mac (FHLMC)          1.532e-01  2.903e+02    0.001\n",
       "tipo_compradorGinnie Mae (GNMA)            7.115e-01  2.952e+02    0.002\n",
       "tipo_compradorLife insurance,etc           4.140e-01  3.034e+02    0.001\n",
       "tipo_compradorNo comprado                 -2.166e+01  2.784e+02   -0.078\n",
       "tipo_compradorOtro tipo                    2.905e-01  3.196e+02    0.001\n",
       "tipo_compradorPrivate securitization       3.290e-01  4.823e+02    0.001\n",
       "tipo_propiedadManufactured housing        -1.348e-01  3.147e-02   -4.285\n",
       "preaprovacionNot applicable               -1.701e-01  2.097e-02   -8.111\n",
       "preaprovacionPedida                        9.748e-01  4.038e-02   24.140\n",
       "tipo_ocupacionNot applicable               9.781e-01  2.452e-01    3.988\n",
       "tipo_ocupacionOcupada                      1.650e-01  1.966e-02    8.390\n",
       "loan_type_nameFHA-insured                 -5.730e-01  2.419e-02  -23.684\n",
       "loan_type_nameFSA/RHS-guaranteed          -7.686e-01  8.680e-02   -8.855\n",
       "loan_type_nameVA-guaranteed               -6.107e-01  2.461e-02  -24.813\n",
       "propositoHome purchase                     2.452e-01  2.555e-02    9.598\n",
       "propositoRefinancing                      -3.024e-01  2.391e-02  -12.646\n",
       "gravamenNo tiene                           5.351e-01  3.719e-02   14.391\n",
       "gravamensubord                             2.834e-01  3.097e-02    9.151\n",
       "edit_status_nameQuality edit failure only -2.070e-01  1.793e-02  -11.547\n",
       "sexo_coappMale                            -1.301e-01  1.977e-02   -6.580\n",
       "sexo_coappNo co-applicant                 -1.497e-01  3.907e-02   -3.831\n",
       "sexo_coappno info dada                    -1.065e-01  4.069e-02   -2.618\n",
       "sexo_coappNot applicable                   3.491e-01  5.496e-01    0.635\n",
       "etnia_coappNo co-applicant                        NA         NA       NA\n",
       "etnia_coappno info dada                    1.720e-01  5.356e-02    3.211\n",
       "etnia_coappNot applicable                  4.300e-01  4.768e-01    0.902\n",
       "etnia_coappNot Hispanic or Latino          1.679e-01  3.922e-02    4.280\n",
       "RazaBlack                                 -3.136e-01  4.301e-02   -7.292\n",
       "RazaIndio                                 -1.715e-01  5.948e-02   -2.883\n",
       "RazaInsular                               -1.002e-01  6.511e-02   -1.539\n",
       "Razano info dada                           1.682e-02  3.652e-02    0.461\n",
       "RazaNot applicable                         7.149e-01  7.131e-01    1.003\n",
       "RazaWhite                                  9.260e-02  1.940e-02    4.774\n",
       "Etniano info dada                         -2.651e-02  4.204e-02   -0.630\n",
       "EtniaNot applicable                        3.596e-01  3.808e-01    0.944\n",
       "EtniaNot Hispanic or Latino                1.492e-01  2.855e-02    5.225\n",
       "agency_abbrFDIC                           -5.061e-01  1.935e-02  -26.158\n",
       "agency_abbrFRS                             1.775e-01  6.693e-02    2.651\n",
       "agency_abbrHUD                            -1.531e+00  1.416e-02 -108.104\n",
       "agency_abbrNCUA                            4.927e-01  1.802e-02   27.334\n",
       "agency_abbrOCC                            -1.505e-01  4.738e-02   -3.177\n",
       "                                          Pr(>|z|)    \n",
       "(Intercept)                               0.969569    \n",
       "Tract                                      < 2e-16 ***\n",
       "rate_spread                               0.831279    \n",
       "minorias                                  1.63e-06 ***\n",
       "nro_viv_ocupadas                          0.000162 ***\n",
       "nro_unid_residenciales                    0.000147 ***\n",
       "loan_amount_000s                          3.32e-14 ***\n",
       "Ingreso_medio_fam                          < 2e-16 ***\n",
       "Ingreso_solicit                            < 2e-16 ***\n",
       "tipo_compradorCommercial bank,etc         0.999057    \n",
       "tipo_compradorFannie Mae (FNMA)           0.999801    \n",
       "tipo_compradorFarmer Mac (FAMC)           0.999888    \n",
       "tipo_compradorFreddie Mac (FHLMC)         0.999579    \n",
       "tipo_compradorGinnie Mae (GNMA)           0.998077    \n",
       "tipo_compradorLife insurance,etc          0.998911    \n",
       "tipo_compradorNo comprado                 0.937982    \n",
       "tipo_compradorOtro tipo                   0.999275    \n",
       "tipo_compradorPrivate securitization      0.999456    \n",
       "tipo_propiedadManufactured housing        1.82e-05 ***\n",
       "preaprovacionNot applicable               5.02e-16 ***\n",
       "preaprovacionPedida                        < 2e-16 ***\n",
       "tipo_ocupacionNot applicable              6.66e-05 ***\n",
       "tipo_ocupacionOcupada                      < 2e-16 ***\n",
       "loan_type_nameFHA-insured                  < 2e-16 ***\n",
       "loan_type_nameFSA/RHS-guaranteed           < 2e-16 ***\n",
       "loan_type_nameVA-guaranteed                < 2e-16 ***\n",
       "propositoHome purchase                     < 2e-16 ***\n",
       "propositoRefinancing                       < 2e-16 ***\n",
       "gravamenNo tiene                           < 2e-16 ***\n",
       "gravamensubord                             < 2e-16 ***\n",
       "edit_status_nameQuality edit failure only  < 2e-16 ***\n",
       "sexo_coappMale                            4.71e-11 ***\n",
       "sexo_coappNo co-applicant                 0.000127 ***\n",
       "sexo_coappno info dada                    0.008848 ** \n",
       "sexo_coappNot applicable                  0.525319    \n",
       "etnia_coappNo co-applicant                      NA    \n",
       "etnia_coappno info dada                   0.001323 ** \n",
       "etnia_coappNot applicable                 0.367178    \n",
       "etnia_coappNot Hispanic or Latino         1.87e-05 ***\n",
       "RazaBlack                                 3.05e-13 ***\n",
       "RazaIndio                                 0.003934 ** \n",
       "RazaInsular                               0.123734    \n",
       "Razano info dada                          0.645019    \n",
       "RazaNot applicable                        0.316100    \n",
       "RazaWhite                                 1.81e-06 ***\n",
       "Etniano info dada                         0.528382    \n",
       "EtniaNot applicable                       0.345014    \n",
       "EtniaNot Hispanic or Latino               1.74e-07 ***\n",
       "agency_abbrFDIC                            < 2e-16 ***\n",
       "agency_abbrFRS                            0.008014 ** \n",
       "agency_abbrHUD                             < 2e-16 ***\n",
       "agency_abbrNCUA                            < 2e-16 ***\n",
       "agency_abbrOCC                            0.001491 ** \n",
       "---\n",
       "Signif. codes:  0 '***' 0.001 '**' 0.01 '*' 0.05 '.' 0.1 ' ' 1\n",
       "\n",
       "(Dispersion parameter for binomial family taken to be 1)\n",
       "\n",
       "    Null deviance: 488966  on 381417  degrees of freedom\n",
       "Residual deviance: 197516  on 381366  degrees of freedom\n",
       "  (521 observations deleted due to missingness)\n",
       "AIC: 197620\n",
       "\n",
       "Number of Fisher Scoring iterations: 19\n"
      ]
     },
     "metadata": {},
     "output_type": "display_data"
    }
   ],
   "source": [
    "modelo1= glm(aprobacion~Tract+rate_spread+minorias+nro_viv_ocupadas+nro_unid_residenciales+loan_amount_000s+Ingreso_medio_fam+Ingreso_solicit+tipo_comprador+tipo_propiedad+preaprovacion+tipo_ocupacion+loan_type_name+proposito+gravamen+edit_status_name+sexo_coapp+etnia_coapp+Raza+Etnia+agency_abbr, data=variables, family='binomial')\n",
    "summary(modelo1)"
   ]
  },
  {
   "cell_type": "code",
   "execution_count": 138,
   "id": "86808f2c-f382-40fe-8d5e-acdb24ca77f1",
   "metadata": {},
   "outputs": [
    {
     "data": {
      "text/html": [
       "0.596054865118524"
      ],
      "text/latex": [
       "0.596054865118524"
      ],
      "text/markdown": [
       "0.596054865118524"
      ],
      "text/plain": [
       "[1] 0.5960549"
      ]
     },
     "metadata": {},
     "output_type": "display_data"
    }
   ],
   "source": [
    "R21=(modelo1$null.deviance-modelo1$deviance)/modelo1$null.deviance\n",
    "R21"
   ]
  },
  {
   "cell_type": "markdown",
   "id": "955ca782-0917-4995-be71-7711e20f72cd",
   "metadata": {},
   "source": [
    "### 3.2 Segundo modelo"
   ]
  },
  {
   "cell_type": "markdown",
   "id": "3a923d60-50a8-433f-924e-e6b5537e868d",
   "metadata": {},
   "source": [
    "Hacemos un segundo modelo tomando las variables que nos han salido significativas en el primer modelo."
   ]
  },
  {
   "cell_type": "code",
   "execution_count": 139,
   "id": "382d5fc4-68ce-4534-83d9-1dbcc089b9d0",
   "metadata": {
    "scrolled": true
   },
   "outputs": [
    {
     "data": {
      "text/plain": [
       "\n",
       "Call:\n",
       "glm(formula = aprobacion ~ Tract + minorias + nro_viv_ocupadas + \n",
       "    nro_unid_residenciales + loan_amount_000s + Ingreso_solicit + \n",
       "    tipo_propiedad + preaprovacion + tipo_ocupacion + loan_type_name + \n",
       "    proposito + gravamen + edit_status_name + sexo_coapp + etnia_coapp + \n",
       "    Raza + Etnia + agency_abbr, family = binomial, data = variables)\n",
       "\n",
       "Coefficients: (1 not defined because of singularities)\n",
       "                                            Estimate Std. Error z value\n",
       "(Intercept)                                1.531e-01  4.384e-02   3.492\n",
       "Tract                                      1.640e-03  1.597e-04  10.269\n",
       "minorias                                   4.363e-04  2.703e-04   1.614\n",
       "nro_viv_ocupadas                           2.685e-04  1.551e-05  17.312\n",
       "nro_unid_residenciales                    -2.134e-04  1.074e-05 -19.869\n",
       "loan_amount_000s                          -7.297e-06  8.393e-06  -0.869\n",
       "Ingreso_solicit                            2.393e-04  3.409e-05   7.019\n",
       "tipo_propiedadManufactured housing        -5.024e-01  2.106e-02 -23.855\n",
       "preaprovacionNot applicable               -1.862e-01  1.297e-02 -14.363\n",
       "preaprovacionPedida                        5.178e-01  2.928e-02  17.684\n",
       "tipo_ocupacionNot applicable               3.241e-01  2.042e-01   1.587\n",
       "tipo_ocupacionOcupada                      2.161e-01  1.293e-02  16.716\n",
       "loan_type_nameFHA-insured                 -3.431e-01  1.178e-02 -29.136\n",
       "loan_type_nameFSA/RHS-guaranteed          -3.717e-01  4.187e-02  -8.878\n",
       "loan_type_nameVA-guaranteed               -2.322e-01  1.255e-02 -18.494\n",
       "propositoHome purchase                     5.525e-01  1.864e-02  29.637\n",
       "propositoRefinancing                      -3.266e-01  1.760e-02 -18.556\n",
       "gravamenNo tiene                          -4.463e-01  3.298e-02 -13.533\n",
       "gravamensubord                            -3.604e-01  2.440e-02 -14.773\n",
       "edit_status_nameQuality edit failure only  1.216e-01  1.321e-02   9.207\n",
       "sexo_coappMale                            -1.110e-01  1.320e-02  -8.407\n",
       "sexo_coappNo co-applicant                 -1.671e-01  2.442e-02  -6.842\n",
       "sexo_coappno info dada                    -4.244e-02  2.592e-02  -1.638\n",
       "sexo_coappNot applicable                   2.378e-01  3.947e-01   0.603\n",
       "etnia_coappNo co-applicant                        NA         NA      NA\n",
       "etnia_coappno info dada                    1.811e-01  3.333e-02   5.436\n",
       "etnia_coappNot applicable                  6.246e-01  3.306e-01   1.889\n",
       "etnia_coappNot Hispanic or Latino          1.755e-01  2.460e-02   7.135\n",
       "RazaBlack                                 -2.224e-01  2.531e-02  -8.785\n",
       "RazaIndio                                 -2.074e-01  3.601e-02  -5.759\n",
       "RazaInsular                               -1.133e-01  3.964e-02  -2.858\n",
       "Razano info dada                          -3.845e-02  2.371e-02  -1.622\n",
       "RazaNot applicable                         6.331e-01  5.503e-01   1.151\n",
       "RazaWhite                                  1.815e-01  1.318e-02  13.769\n",
       "Etniano info dada                          1.938e-01  2.615e-02   7.412\n",
       "EtniaNot applicable                        1.469e-02  2.638e-01   0.056\n",
       "EtniaNot Hispanic or Latino                2.343e-01  1.729e-02  13.548\n",
       "agency_abbrFDIC                            2.606e-01  1.348e-02  19.324\n",
       "agency_abbrFRS                             7.361e-01  4.956e-02  14.854\n",
       "agency_abbrHUD                            -1.058e-01  8.915e-03 -11.864\n",
       "agency_abbrNCUA                            2.333e-01  1.551e-02  15.043\n",
       "agency_abbrOCC                             2.675e-02  3.522e-02   0.760\n",
       "                                          Pr(>|z|)    \n",
       "(Intercept)                               0.000479 ***\n",
       "Tract                                      < 2e-16 ***\n",
       "minorias                                  0.106466    \n",
       "nro_viv_ocupadas                           < 2e-16 ***\n",
       "nro_unid_residenciales                     < 2e-16 ***\n",
       "loan_amount_000s                          0.384593    \n",
       "Ingreso_solicit                           2.23e-12 ***\n",
       "tipo_propiedadManufactured housing         < 2e-16 ***\n",
       "preaprovacionNot applicable                < 2e-16 ***\n",
       "preaprovacionPedida                        < 2e-16 ***\n",
       "tipo_ocupacionNot applicable              0.112462    \n",
       "tipo_ocupacionOcupada                      < 2e-16 ***\n",
       "loan_type_nameFHA-insured                  < 2e-16 ***\n",
       "loan_type_nameFSA/RHS-guaranteed           < 2e-16 ***\n",
       "loan_type_nameVA-guaranteed                < 2e-16 ***\n",
       "propositoHome purchase                     < 2e-16 ***\n",
       "propositoRefinancing                       < 2e-16 ***\n",
       "gravamenNo tiene                           < 2e-16 ***\n",
       "gravamensubord                             < 2e-16 ***\n",
       "edit_status_nameQuality edit failure only  < 2e-16 ***\n",
       "sexo_coappMale                             < 2e-16 ***\n",
       "sexo_coappNo co-applicant                 7.82e-12 ***\n",
       "sexo_coappno info dada                    0.101477    \n",
       "sexo_coappNot applicable                  0.546789    \n",
       "etnia_coappNo co-applicant                      NA    \n",
       "etnia_coappno info dada                   5.46e-08 ***\n",
       "etnia_coappNot applicable                 0.058851 .  \n",
       "etnia_coappNot Hispanic or Latino         9.70e-13 ***\n",
       "RazaBlack                                  < 2e-16 ***\n",
       "RazaIndio                                 8.44e-09 ***\n",
       "RazaInsular                               0.004269 ** \n",
       "Razano info dada                          0.104847    \n",
       "RazaNot applicable                        0.249937    \n",
       "RazaWhite                                  < 2e-16 ***\n",
       "Etniano info dada                         1.24e-13 ***\n",
       "EtniaNot applicable                       0.955611    \n",
       "EtniaNot Hispanic or Latino                < 2e-16 ***\n",
       "agency_abbrFDIC                            < 2e-16 ***\n",
       "agency_abbrFRS                             < 2e-16 ***\n",
       "agency_abbrHUD                             < 2e-16 ***\n",
       "agency_abbrNCUA                            < 2e-16 ***\n",
       "agency_abbrOCC                            0.447542    \n",
       "---\n",
       "Signif. codes:  0 '***' 0.001 '**' 0.01 '*' 0.05 '.' 0.1 ' ' 1\n",
       "\n",
       "(Dispersion parameter for binomial family taken to be 1)\n",
       "\n",
       "    Null deviance: 488966  on 381417  degrees of freedom\n",
       "Residual deviance: 463287  on 381377  degrees of freedom\n",
       "  (521 observations deleted due to missingness)\n",
       "AIC: 463369\n",
       "\n",
       "Number of Fisher Scoring iterations: 4\n"
      ]
     },
     "metadata": {},
     "output_type": "display_data"
    }
   ],
   "source": [
    "modelo2 =glm(aprobacion ~ Tract+minorias+nro_viv_ocupadas+nro_unid_residenciales+loan_amount_000s+Ingreso_solicit+tipo_propiedad+preaprovacion+ \n",
    "  tipo_ocupacion+loan_type_name+proposito+gravamen+edit_status_name+sexo_coapp+etnia_coapp+Raza+Etnia+agency_abbr, data = variables,family = binomial)\n",
    "\n",
    "summary(modelo2)"
   ]
  },
  {
   "cell_type": "code",
   "execution_count": 140,
   "id": "e626db4b-672e-46f7-a4ae-6a44f498ca73",
   "metadata": {},
   "outputs": [
    {
     "data": {
      "text/html": [
       "0.052516886767536"
      ],
      "text/latex": [
       "0.052516886767536"
      ],
      "text/markdown": [
       "0.052516886767536"
      ],
      "text/plain": [
       "[1] 0.05251689"
      ]
     },
     "metadata": {},
     "output_type": "display_data"
    }
   ],
   "source": [
    "R22=(modelo2$null.deviance-modelo2$deviance)/modelo2$null.deviance\n",
    "R22"
   ]
  },
  {
   "cell_type": "markdown",
   "id": "003c78af-ca71-4a03-bf66-6cd55b2bfed5",
   "metadata": {},
   "source": [
    "## 3.3 Tercer modelo"
   ]
  },
  {
   "cell_type": "markdown",
   "id": "b3f36060-7257-4d66-96ae-71d679cbed11",
   "metadata": {},
   "source": [
    "Para este tercer modelo vamos a hacer regresiones logísticas de cada variable seleccionada sobre la target.\n",
    "Tomaremos las $10$ variables con el p-valor más alto."
   ]
  },
  {
   "cell_type": "code",
   "execution_count": 141,
   "id": "90e99af7-4b1f-4026-9b63-74f0ce326732",
   "metadata": {
    "scrolled": true
   },
   "outputs": [
    {
     "name": "stderr",
     "output_type": "stream",
     "text": [
      "Warning message:\n",
      "\"glm.fit: fitted probabilities numerically 0 or 1 occurred\"\n",
      "Warning message:\n",
      "\"glm.fit: fitted probabilities numerically 0 or 1 occurred\"\n"
     ]
    },
    {
     "data": {
      "text/html": [
       "<table class=\"dataframe\">\n",
       "<caption>A data.frame: 40 × 2</caption>\n",
       "<thead>\n",
       "\t<tr><th></th><th scope=col>Variable</th><th scope=col>pValor</th></tr>\n",
       "\t<tr><th></th><th scope=col>&lt;chr&gt;</th><th scope=col>&lt;dbl&gt;</th></tr>\n",
       "</thead>\n",
       "<tbody>\n",
       "\t<tr><th scope=row>Tract.variables[[i]]</th><td>Tract            </td><td>2.951901e-218</td></tr>\n",
       "\t<tr><th scope=row>Ingreso_medio_fam.variables[[i]]</th><td>Ingreso_medio_fam</td><td>7.511379e-187</td></tr>\n",
       "\t<tr><th scope=row>Etnia.(Intercept)</th><td>Etnia            </td><td>2.385990e-186</td></tr>\n",
       "\t<tr><th scope=row>agency_abbr.variables[[i]]FDIC</th><td>agency_abbr      </td><td>3.705333e-185</td></tr>\n",
       "\t<tr><th scope=row>etnia_coapp.(Intercept)</th><td>etnia_coapp      </td><td>7.926573e-168</td></tr>\n",
       "\t<tr><th scope=row>msamd_name.variables[[i]]Seattle, Bellevue, Everett - WA</th><td>msamd_name       </td><td>1.861813e-146</td></tr>\n",
       "\t<tr><th scope=row>Ingreso_solicit.variables[[i]]</th><td>Ingreso_solicit  </td><td>4.648256e-121</td></tr>\n",
       "\t<tr><th scope=row>Tract.(Intercept)</th><td>Tract            </td><td> 1.260419e-94</td></tr>\n",
       "\t<tr><th scope=row>minorias.variables[[i]]</th><td>minorias         </td><td> 9.537093e-88</td></tr>\n",
       "\t<tr><th scope=row>agency_abbr.variables[[i]]FRS</th><td>agency_abbr      </td><td> 5.344685e-81</td></tr>\n",
       "\t<tr><th scope=row>Etnia.variables[[i]]Not Hispanic or Latino</th><td>Etnia            </td><td> 2.295828e-79</td></tr>\n",
       "\t<tr><th scope=row>preaprovacion.variables[[i]]Pedida</th><td>preaprovacion    </td><td> 7.012776e-79</td></tr>\n",
       "\t<tr><th scope=row>proposito.variables[[i]]Refinancing</th><td>proposito        </td><td> 3.043738e-72</td></tr>\n",
       "\t<tr><th scope=row>tipo_propiedad.variables[[i]]Manufactured housing</th><td>tipo_propiedad   </td><td> 2.545210e-70</td></tr>\n",
       "\t<tr><th scope=row>Raza.variables[[i]]Black</th><td>Raza             </td><td> 1.281364e-62</td></tr>\n",
       "\t<tr><th scope=row>agency_abbr.variables[[i]]HUD</th><td>agency_abbr      </td><td> 6.314656e-62</td></tr>\n",
       "\t<tr><th scope=row>msamd_name.variables[[i]]Portland, Vancouver, Hillsboro - OR, WA</th><td>msamd_name       </td><td> 1.770234e-61</td></tr>\n",
       "\t<tr><th scope=row>gravamen.variables[[i]]No tiene</th><td>gravamen         </td><td> 3.788676e-53</td></tr>\n",
       "\t<tr><th scope=row>loan_type_name.variables[[i]]FHA-insured</th><td>loan_type_name   </td><td> 1.237838e-51</td></tr>\n",
       "\t<tr><th scope=row>edit_status_name.variables[[i]]Quality edit failure only</th><td>edit_status_name </td><td> 9.856530e-45</td></tr>\n",
       "\t<tr><th scope=row>tipo_ocupacion.variables[[i]]Ocupada</th><td>tipo_ocupacion   </td><td> 1.390040e-43</td></tr>\n",
       "\t<tr><th scope=row>Raza.variables[[i]]no info dada</th><td>Raza             </td><td> 6.745058e-41</td></tr>\n",
       "\t<tr><th scope=row>etnia_coapp.variables[[i]]Not Hispanic or Latino</th><td>etnia_coapp      </td><td> 1.016094e-40</td></tr>\n",
       "\t<tr><th scope=row>nro_viv_ocupadas.variables[[i]]</th><td>nro_viv_ocupadas </td><td> 1.121873e-40</td></tr>\n",
       "\t<tr><th scope=row>agency_abbr.variables[[i]]NCUA</th><td>agency_abbr      </td><td> 1.486320e-40</td></tr>\n",
       "\t<tr><th scope=row>sexo_coapp.variables[[i]]no info dada</th><td>sexo_coapp       </td><td> 3.534637e-40</td></tr>\n",
       "\t<tr><th scope=row>msamd_name.variables[[i]]Kennewick, Richland - WA</th><td>msamd_name       </td><td> 2.808933e-38</td></tr>\n",
       "\t<tr><th scope=row>msamd_name.variables[[i]]Bellingham - WA</th><td>msamd_name       </td><td> 3.523167e-38</td></tr>\n",
       "\t<tr><th scope=row>Raza.variables[[i]]Indio</th><td>Raza             </td><td> 3.630559e-37</td></tr>\n",
       "\t<tr><th scope=row>Raza_coapp.variables[[i]]No co-applicant</th><td>Raza_coapp       </td><td> 1.975857e-36</td></tr>\n",
       "\t<tr><th scope=row>Raza_coapp.variables[[i]]White</th><td>Raza_coapp       </td><td> 1.837857e-30</td></tr>\n",
       "\t<tr><th scope=row>msamd_name.variables[[i]]Spokane, Spokane Valley - WA</th><td>msamd_name       </td><td> 2.754339e-28</td></tr>\n",
       "\t<tr><th scope=row>Sexo.variables[[i]]no info dada</th><td>Sexo             </td><td> 7.787627e-22</td></tr>\n",
       "\t<tr><th scope=row>Sexo.variables[[i]]Male</th><td>Sexo             </td><td> 7.315739e-21</td></tr>\n",
       "\t<tr><th scope=row>msamd_name.variables[[i]]Olympia, Tumwater - WA</th><td>msamd_name       </td><td> 7.728065e-20</td></tr>\n",
       "\t<tr><th scope=row>Raza_coapp.variables[[i]]Black</th><td>Raza_coapp       </td><td> 1.518941e-15</td></tr>\n",
       "\t<tr><th scope=row>sexo_coapp.variables[[i]]Male</th><td>sexo_coapp       </td><td> 8.622338e-15</td></tr>\n",
       "\t<tr><th scope=row>msamd_name.variables[[i]]Bremerton, Silverdale - WA</th><td>msamd_name       </td><td> 2.712598e-13</td></tr>\n",
       "\t<tr><th scope=row>Raza.variables[[i]]Insular</th><td>Raza             </td><td> 2.719924e-13</td></tr>\n",
       "\t<tr><th scope=row>msamd_name.variables[[i]]Wenatchee - WA</th><td>msamd_name       </td><td> 1.177300e-11</td></tr>\n",
       "</tbody>\n",
       "</table>\n"
      ],
      "text/latex": [
       "A data.frame: 40 × 2\n",
       "\\begin{tabular}{r|ll}\n",
       "  & Variable & pValor\\\\\n",
       "  & <chr> & <dbl>\\\\\n",
       "\\hline\n",
       "\tTract.variables{[}{[}i{]}{]} & Tract             & 2.951901e-218\\\\\n",
       "\tIngreso\\_medio\\_fam.variables{[}{[}i{]}{]} & Ingreso\\_medio\\_fam & 7.511379e-187\\\\\n",
       "\tEtnia.(Intercept) & Etnia             & 2.385990e-186\\\\\n",
       "\tagency\\_abbr.variables{[}{[}i{]}{]}FDIC & agency\\_abbr       & 3.705333e-185\\\\\n",
       "\tetnia\\_coapp.(Intercept) & etnia\\_coapp       & 7.926573e-168\\\\\n",
       "\tmsamd\\_name.variables{[}{[}i{]}{]}Seattle, Bellevue, Everett - WA & msamd\\_name        & 1.861813e-146\\\\\n",
       "\tIngreso\\_solicit.variables{[}{[}i{]}{]} & Ingreso\\_solicit   & 4.648256e-121\\\\\n",
       "\tTract.(Intercept) & Tract             &  1.260419e-94\\\\\n",
       "\tminorias.variables{[}{[}i{]}{]} & minorias          &  9.537093e-88\\\\\n",
       "\tagency\\_abbr.variables{[}{[}i{]}{]}FRS & agency\\_abbr       &  5.344685e-81\\\\\n",
       "\tEtnia.variables{[}{[}i{]}{]}Not Hispanic or Latino & Etnia             &  2.295828e-79\\\\\n",
       "\tpreaprovacion.variables{[}{[}i{]}{]}Pedida & preaprovacion     &  7.012776e-79\\\\\n",
       "\tproposito.variables{[}{[}i{]}{]}Refinancing & proposito         &  3.043738e-72\\\\\n",
       "\ttipo\\_propiedad.variables{[}{[}i{]}{]}Manufactured housing & tipo\\_propiedad    &  2.545210e-70\\\\\n",
       "\tRaza.variables{[}{[}i{]}{]}Black & Raza              &  1.281364e-62\\\\\n",
       "\tagency\\_abbr.variables{[}{[}i{]}{]}HUD & agency\\_abbr       &  6.314656e-62\\\\\n",
       "\tmsamd\\_name.variables{[}{[}i{]}{]}Portland, Vancouver, Hillsboro - OR, WA & msamd\\_name        &  1.770234e-61\\\\\n",
       "\tgravamen.variables{[}{[}i{]}{]}No tiene & gravamen          &  3.788676e-53\\\\\n",
       "\tloan\\_type\\_name.variables{[}{[}i{]}{]}FHA-insured & loan\\_type\\_name    &  1.237838e-51\\\\\n",
       "\tedit\\_status\\_name.variables{[}{[}i{]}{]}Quality edit failure only & edit\\_status\\_name  &  9.856530e-45\\\\\n",
       "\ttipo\\_ocupacion.variables{[}{[}i{]}{]}Ocupada & tipo\\_ocupacion    &  1.390040e-43\\\\\n",
       "\tRaza.variables{[}{[}i{]}{]}no info dada & Raza              &  6.745058e-41\\\\\n",
       "\tetnia\\_coapp.variables{[}{[}i{]}{]}Not Hispanic or Latino & etnia\\_coapp       &  1.016094e-40\\\\\n",
       "\tnro\\_viv\\_ocupadas.variables{[}{[}i{]}{]} & nro\\_viv\\_ocupadas  &  1.121873e-40\\\\\n",
       "\tagency\\_abbr.variables{[}{[}i{]}{]}NCUA & agency\\_abbr       &  1.486320e-40\\\\\n",
       "\tsexo\\_coapp.variables{[}{[}i{]}{]}no info dada & sexo\\_coapp        &  3.534637e-40\\\\\n",
       "\tmsamd\\_name.variables{[}{[}i{]}{]}Kennewick, Richland - WA & msamd\\_name        &  2.808933e-38\\\\\n",
       "\tmsamd\\_name.variables{[}{[}i{]}{]}Bellingham - WA & msamd\\_name        &  3.523167e-38\\\\\n",
       "\tRaza.variables{[}{[}i{]}{]}Indio & Raza              &  3.630559e-37\\\\\n",
       "\tRaza\\_coapp.variables{[}{[}i{]}{]}No co-applicant & Raza\\_coapp        &  1.975857e-36\\\\\n",
       "\tRaza\\_coapp.variables{[}{[}i{]}{]}White & Raza\\_coapp        &  1.837857e-30\\\\\n",
       "\tmsamd\\_name.variables{[}{[}i{]}{]}Spokane, Spokane Valley - WA & msamd\\_name        &  2.754339e-28\\\\\n",
       "\tSexo.variables{[}{[}i{]}{]}no info dada & Sexo              &  7.787627e-22\\\\\n",
       "\tSexo.variables{[}{[}i{]}{]}Male & Sexo              &  7.315739e-21\\\\\n",
       "\tmsamd\\_name.variables{[}{[}i{]}{]}Olympia, Tumwater - WA & msamd\\_name        &  7.728065e-20\\\\\n",
       "\tRaza\\_coapp.variables{[}{[}i{]}{]}Black & Raza\\_coapp        &  1.518941e-15\\\\\n",
       "\tsexo\\_coapp.variables{[}{[}i{]}{]}Male & sexo\\_coapp        &  8.622338e-15\\\\\n",
       "\tmsamd\\_name.variables{[}{[}i{]}{]}Bremerton, Silverdale - WA & msamd\\_name        &  2.712598e-13\\\\\n",
       "\tRaza.variables{[}{[}i{]}{]}Insular & Raza              &  2.719924e-13\\\\\n",
       "\tmsamd\\_name.variables{[}{[}i{]}{]}Wenatchee - WA & msamd\\_name        &  1.177300e-11\\\\\n",
       "\\end{tabular}\n"
      ],
      "text/markdown": [
       "\n",
       "A data.frame: 40 × 2\n",
       "\n",
       "| <!--/--> | Variable &lt;chr&gt; | pValor &lt;dbl&gt; |\n",
       "|---|---|---|\n",
       "| Tract.variables[[i]] | Tract             | 2.951901e-218 |\n",
       "| Ingreso_medio_fam.variables[[i]] | Ingreso_medio_fam | 7.511379e-187 |\n",
       "| Etnia.(Intercept) | Etnia             | 2.385990e-186 |\n",
       "| agency_abbr.variables[[i]]FDIC | agency_abbr       | 3.705333e-185 |\n",
       "| etnia_coapp.(Intercept) | etnia_coapp       | 7.926573e-168 |\n",
       "| msamd_name.variables[[i]]Seattle, Bellevue, Everett - WA | msamd_name        | 1.861813e-146 |\n",
       "| Ingreso_solicit.variables[[i]] | Ingreso_solicit   | 4.648256e-121 |\n",
       "| Tract.(Intercept) | Tract             |  1.260419e-94 |\n",
       "| minorias.variables[[i]] | minorias          |  9.537093e-88 |\n",
       "| agency_abbr.variables[[i]]FRS | agency_abbr       |  5.344685e-81 |\n",
       "| Etnia.variables[[i]]Not Hispanic or Latino | Etnia             |  2.295828e-79 |\n",
       "| preaprovacion.variables[[i]]Pedida | preaprovacion     |  7.012776e-79 |\n",
       "| proposito.variables[[i]]Refinancing | proposito         |  3.043738e-72 |\n",
       "| tipo_propiedad.variables[[i]]Manufactured housing | tipo_propiedad    |  2.545210e-70 |\n",
       "| Raza.variables[[i]]Black | Raza              |  1.281364e-62 |\n",
       "| agency_abbr.variables[[i]]HUD | agency_abbr       |  6.314656e-62 |\n",
       "| msamd_name.variables[[i]]Portland, Vancouver, Hillsboro - OR, WA | msamd_name        |  1.770234e-61 |\n",
       "| gravamen.variables[[i]]No tiene | gravamen          |  3.788676e-53 |\n",
       "| loan_type_name.variables[[i]]FHA-insured | loan_type_name    |  1.237838e-51 |\n",
       "| edit_status_name.variables[[i]]Quality edit failure only | edit_status_name  |  9.856530e-45 |\n",
       "| tipo_ocupacion.variables[[i]]Ocupada | tipo_ocupacion    |  1.390040e-43 |\n",
       "| Raza.variables[[i]]no info dada | Raza              |  6.745058e-41 |\n",
       "| etnia_coapp.variables[[i]]Not Hispanic or Latino | etnia_coapp       |  1.016094e-40 |\n",
       "| nro_viv_ocupadas.variables[[i]] | nro_viv_ocupadas  |  1.121873e-40 |\n",
       "| agency_abbr.variables[[i]]NCUA | agency_abbr       |  1.486320e-40 |\n",
       "| sexo_coapp.variables[[i]]no info dada | sexo_coapp        |  3.534637e-40 |\n",
       "| msamd_name.variables[[i]]Kennewick, Richland - WA | msamd_name        |  2.808933e-38 |\n",
       "| msamd_name.variables[[i]]Bellingham - WA | msamd_name        |  3.523167e-38 |\n",
       "| Raza.variables[[i]]Indio | Raza              |  3.630559e-37 |\n",
       "| Raza_coapp.variables[[i]]No co-applicant | Raza_coapp        |  1.975857e-36 |\n",
       "| Raza_coapp.variables[[i]]White | Raza_coapp        |  1.837857e-30 |\n",
       "| msamd_name.variables[[i]]Spokane, Spokane Valley - WA | msamd_name        |  2.754339e-28 |\n",
       "| Sexo.variables[[i]]no info dada | Sexo              |  7.787627e-22 |\n",
       "| Sexo.variables[[i]]Male | Sexo              |  7.315739e-21 |\n",
       "| msamd_name.variables[[i]]Olympia, Tumwater - WA | msamd_name        |  7.728065e-20 |\n",
       "| Raza_coapp.variables[[i]]Black | Raza_coapp        |  1.518941e-15 |\n",
       "| sexo_coapp.variables[[i]]Male | sexo_coapp        |  8.622338e-15 |\n",
       "| msamd_name.variables[[i]]Bremerton, Silverdale - WA | msamd_name        |  2.712598e-13 |\n",
       "| Raza.variables[[i]]Insular | Raza              |  2.719924e-13 |\n",
       "| msamd_name.variables[[i]]Wenatchee - WA | msamd_name        |  1.177300e-11 |\n",
       "\n"
      ],
      "text/plain": [
       "                                                                 Variable         \n",
       "Tract.variables[[i]]                                             Tract            \n",
       "Ingreso_medio_fam.variables[[i]]                                 Ingreso_medio_fam\n",
       "Etnia.(Intercept)                                                Etnia            \n",
       "agency_abbr.variables[[i]]FDIC                                   agency_abbr      \n",
       "etnia_coapp.(Intercept)                                          etnia_coapp      \n",
       "msamd_name.variables[[i]]Seattle, Bellevue, Everett - WA         msamd_name       \n",
       "Ingreso_solicit.variables[[i]]                                   Ingreso_solicit  \n",
       "Tract.(Intercept)                                                Tract            \n",
       "minorias.variables[[i]]                                          minorias         \n",
       "agency_abbr.variables[[i]]FRS                                    agency_abbr      \n",
       "Etnia.variables[[i]]Not Hispanic or Latino                       Etnia            \n",
       "preaprovacion.variables[[i]]Pedida                               preaprovacion    \n",
       "proposito.variables[[i]]Refinancing                              proposito        \n",
       "tipo_propiedad.variables[[i]]Manufactured housing                tipo_propiedad   \n",
       "Raza.variables[[i]]Black                                         Raza             \n",
       "agency_abbr.variables[[i]]HUD                                    agency_abbr      \n",
       "msamd_name.variables[[i]]Portland, Vancouver, Hillsboro - OR, WA msamd_name       \n",
       "gravamen.variables[[i]]No tiene                                  gravamen         \n",
       "loan_type_name.variables[[i]]FHA-insured                         loan_type_name   \n",
       "edit_status_name.variables[[i]]Quality edit failure only         edit_status_name \n",
       "tipo_ocupacion.variables[[i]]Ocupada                             tipo_ocupacion   \n",
       "Raza.variables[[i]]no info dada                                  Raza             \n",
       "etnia_coapp.variables[[i]]Not Hispanic or Latino                 etnia_coapp      \n",
       "nro_viv_ocupadas.variables[[i]]                                  nro_viv_ocupadas \n",
       "agency_abbr.variables[[i]]NCUA                                   agency_abbr      \n",
       "sexo_coapp.variables[[i]]no info dada                            sexo_coapp       \n",
       "msamd_name.variables[[i]]Kennewick, Richland - WA                msamd_name       \n",
       "msamd_name.variables[[i]]Bellingham - WA                         msamd_name       \n",
       "Raza.variables[[i]]Indio                                         Raza             \n",
       "Raza_coapp.variables[[i]]No co-applicant                         Raza_coapp       \n",
       "Raza_coapp.variables[[i]]White                                   Raza_coapp       \n",
       "msamd_name.variables[[i]]Spokane, Spokane Valley - WA            msamd_name       \n",
       "Sexo.variables[[i]]no info dada                                  Sexo             \n",
       "Sexo.variables[[i]]Male                                          Sexo             \n",
       "msamd_name.variables[[i]]Olympia, Tumwater - WA                  msamd_name       \n",
       "Raza_coapp.variables[[i]]Black                                   Raza_coapp       \n",
       "sexo_coapp.variables[[i]]Male                                    sexo_coapp       \n",
       "msamd_name.variables[[i]]Bremerton, Silverdale - WA              msamd_name       \n",
       "Raza.variables[[i]]Insular                                       Raza             \n",
       "msamd_name.variables[[i]]Wenatchee - WA                          msamd_name       \n",
       "                                                                 pValor       \n",
       "Tract.variables[[i]]                                             2.951901e-218\n",
       "Ingreso_medio_fam.variables[[i]]                                 7.511379e-187\n",
       "Etnia.(Intercept)                                                2.385990e-186\n",
       "agency_abbr.variables[[i]]FDIC                                   3.705333e-185\n",
       "etnia_coapp.(Intercept)                                          7.926573e-168\n",
       "msamd_name.variables[[i]]Seattle, Bellevue, Everett - WA         1.861813e-146\n",
       "Ingreso_solicit.variables[[i]]                                   4.648256e-121\n",
       "Tract.(Intercept)                                                 1.260419e-94\n",
       "minorias.variables[[i]]                                           9.537093e-88\n",
       "agency_abbr.variables[[i]]FRS                                     5.344685e-81\n",
       "Etnia.variables[[i]]Not Hispanic or Latino                        2.295828e-79\n",
       "preaprovacion.variables[[i]]Pedida                                7.012776e-79\n",
       "proposito.variables[[i]]Refinancing                               3.043738e-72\n",
       "tipo_propiedad.variables[[i]]Manufactured housing                 2.545210e-70\n",
       "Raza.variables[[i]]Black                                          1.281364e-62\n",
       "agency_abbr.variables[[i]]HUD                                     6.314656e-62\n",
       "msamd_name.variables[[i]]Portland, Vancouver, Hillsboro - OR, WA  1.770234e-61\n",
       "gravamen.variables[[i]]No tiene                                   3.788676e-53\n",
       "loan_type_name.variables[[i]]FHA-insured                          1.237838e-51\n",
       "edit_status_name.variables[[i]]Quality edit failure only          9.856530e-45\n",
       "tipo_ocupacion.variables[[i]]Ocupada                              1.390040e-43\n",
       "Raza.variables[[i]]no info dada                                   6.745058e-41\n",
       "etnia_coapp.variables[[i]]Not Hispanic or Latino                  1.016094e-40\n",
       "nro_viv_ocupadas.variables[[i]]                                   1.121873e-40\n",
       "agency_abbr.variables[[i]]NCUA                                    1.486320e-40\n",
       "sexo_coapp.variables[[i]]no info dada                             3.534637e-40\n",
       "msamd_name.variables[[i]]Kennewick, Richland - WA                 2.808933e-38\n",
       "msamd_name.variables[[i]]Bellingham - WA                          3.523167e-38\n",
       "Raza.variables[[i]]Indio                                          3.630559e-37\n",
       "Raza_coapp.variables[[i]]No co-applicant                          1.975857e-36\n",
       "Raza_coapp.variables[[i]]White                                    1.837857e-30\n",
       "msamd_name.variables[[i]]Spokane, Spokane Valley - WA             2.754339e-28\n",
       "Sexo.variables[[i]]no info dada                                   7.787627e-22\n",
       "Sexo.variables[[i]]Male                                           7.315739e-21\n",
       "msamd_name.variables[[i]]Olympia, Tumwater - WA                   7.728065e-20\n",
       "Raza_coapp.variables[[i]]Black                                    1.518941e-15\n",
       "sexo_coapp.variables[[i]]Male                                     8.622338e-15\n",
       "msamd_name.variables[[i]]Bremerton, Silverdale - WA               2.712598e-13\n",
       "Raza.variables[[i]]Insular                                        2.719924e-13\n",
       "msamd_name.variables[[i]]Wenatchee - WA                           1.177300e-11"
      ]
     },
     "metadata": {},
     "output_type": "display_data"
    }
   ],
   "source": [
    "pvalores_lista <- list()\n",
    "for (i in 1:25) {\n",
    "    nombre <- names(variables)[i]\n",
    "    modelo=glm(aprobacion~variables[[i]], data=variables, family='binomial')\n",
    "    pvalor= summary(modelo)$coefficients[,4]\n",
    "    pvalores_lista[[nombre]] <- pvalor\n",
    "}\n",
    "\n",
    "df_resultados <- data.frame(\n",
    "    Variable = rep(names(pvalores_lista), lengths(pvalores_lista)),\n",
    "    pValor = unlist(pvalores_lista))\n",
    "\n",
    "# Ordenar por p-valor (de menor a mayor)\n",
    "df_resultados <- df_resultados[order(df_resultados$pValor), ]\n",
    "\n",
    "head(df_resultados[-(1:23),],40)"
   ]
  },
  {
   "cell_type": "code",
   "execution_count": 142,
   "id": "ca9d7aa7-c97c-4ca0-a349-85c365d4b658",
   "metadata": {
    "scrolled": true
   },
   "outputs": [
    {
     "data": {
      "text/plain": [
       "\n",
       "Call:\n",
       "glm(formula = aprobacion ~ loan_amount_000s + Tract + Ingreso_medio_fam + \n",
       "    Etnia + msamd_name + Ingreso_solicit + etnia_coapp + minorias + \n",
       "    Sexo + Etnia, family = binomial, data = datos)\n",
       "\n",
       "Coefficients: (1 not defined because of singularities)\n",
       "                                                    Estimate Std. Error z value\n",
       "(Intercept)                                       -3.707e-01  2.163e-01  -1.714\n",
       "loan_amount_000s                                   1.578e-04  2.366e-05   6.669\n",
       "Tract                                              2.114e-03  1.462e-04  14.462\n",
       "Ingreso_medio_fam                                  1.019e-05  3.909e-06   2.608\n",
       "Etniano info dada                                 -2.701e-02  2.334e-02  -1.157\n",
       "EtniaNot applicable                                7.599e-02  2.398e-01   0.317\n",
       "EtniaNot Hispanic or Latino                        1.386e-01  1.677e-02   8.265\n",
       "msamd_nameBellingham - WA                          1.232e-01  6.526e-02   1.888\n",
       "msamd_nameBremerton, Silverdale - WA              -1.160e-01  9.544e-02  -1.216\n",
       "msamd_nameKennewick, Richland - WA                 1.951e-01  5.113e-02   3.817\n",
       "msamd_nameLewiston - ID, WA                       -1.326e-02  7.283e-02  -0.182\n",
       "msamd_nameLongview - WA                           -2.527e-02  4.053e-02  -0.624\n",
       "msamd_nameMount Vernon, Anacortes - WA             6.721e-02  3.979e-02   1.689\n",
       "msamd_nameOlympia, Tumwater - WA                  -7.171e-03  7.861e-02  -0.091\n",
       "msamd_namePortland, Vancouver, Hillsboro - OR, WA  6.991e-02  7.596e-02   0.920\n",
       "msamd_nameSeattle, Bellevue, Everett - WA         -3.008e-02  1.423e-01  -0.211\n",
       "msamd_nameSpokane, Spokane Valley - WA             8.480e-02  3.374e-02   2.513\n",
       "msamd_nameTacoma, Lakewood - WA                   -6.939e-02  7.264e-02  -0.955\n",
       "msamd_nameWalla Walla - WA                         1.044e-01  4.596e-02   2.271\n",
       "msamd_nameWenatchee - WA                           1.227e-01  4.703e-02   2.610\n",
       "msamd_nameYakima - WA                                     NA         NA      NA\n",
       "Ingreso_solicit                                    9.015e-05  3.377e-05   2.670\n",
       "etnia_coappNo co-applicant                        -2.152e-01  2.362e-02  -9.108\n",
       "etnia_coappno info dada                            8.658e-02  2.828e-02   3.062\n",
       "etnia_coappNot applicable                          6.925e-01  2.598e-01   2.665\n",
       "etnia_coappNot Hispanic or Latino                  1.222e-01  2.398e-02   5.097\n",
       "minorias                                          -2.710e-03  2.892e-04  -9.370\n",
       "SexoMale                                          -1.887e-02  8.177e-03  -2.307\n",
       "Sexono info dada                                  -5.252e-02  1.933e-02  -2.716\n",
       "SexoNot applicable                                -4.499e-01  3.654e-01  -1.231\n",
       "                                                  Pr(>|z|)    \n",
       "(Intercept)                                       0.086508 .  \n",
       "loan_amount_000s                                  2.58e-11 ***\n",
       "Tract                                              < 2e-16 ***\n",
       "Ingreso_medio_fam                                 0.009120 ** \n",
       "Etniano info dada                                 0.247168    \n",
       "EtniaNot applicable                               0.751371    \n",
       "EtniaNot Hispanic or Latino                        < 2e-16 ***\n",
       "msamd_nameBellingham - WA                         0.059032 .  \n",
       "msamd_nameBremerton, Silverdale - WA              0.224095    \n",
       "msamd_nameKennewick, Richland - WA                0.000135 ***\n",
       "msamd_nameLewiston - ID, WA                       0.855514    \n",
       "msamd_nameLongview - WA                           0.532922    \n",
       "msamd_nameMount Vernon, Anacortes - WA            0.091206 .  \n",
       "msamd_nameOlympia, Tumwater - WA                  0.927316    \n",
       "msamd_namePortland, Vancouver, Hillsboro - OR, WA 0.357399    \n",
       "msamd_nameSeattle, Bellevue, Everett - WA         0.832564    \n",
       "msamd_nameSpokane, Spokane Valley - WA            0.011968 *  \n",
       "msamd_nameTacoma, Lakewood - WA                   0.339414    \n",
       "msamd_nameWalla Walla - WA                        0.023159 *  \n",
       "msamd_nameWenatchee - WA                          0.009063 ** \n",
       "msamd_nameYakima - WA                                   NA    \n",
       "Ingreso_solicit                                   0.007589 ** \n",
       "etnia_coappNo co-applicant                         < 2e-16 ***\n",
       "etnia_coappno info dada                           0.002202 ** \n",
       "etnia_coappNot applicable                         0.007696 ** \n",
       "etnia_coappNot Hispanic or Latino                 3.45e-07 ***\n",
       "minorias                                           < 2e-16 ***\n",
       "SexoMale                                          0.021028 *  \n",
       "Sexono info dada                                  0.006602 ** \n",
       "SexoNot applicable                                0.218206    \n",
       "---\n",
       "Signif. codes:  0 '***' 0.001 '**' 0.01 '*' 0.05 '.' 0.1 ' ' 1\n",
       "\n",
       "(Dispersion parameter for binomial family taken to be 1)\n",
       "\n",
       "    Null deviance: 488984  on 381425  degrees of freedom\n",
       "Residual deviance: 483634  on 381397  degrees of freedom\n",
       "  (513 observations deleted due to missingness)\n",
       "AIC: 483692\n",
       "\n",
       "Number of Fisher Scoring iterations: 4\n"
      ]
     },
     "metadata": {},
     "output_type": "display_data"
    }
   ],
   "source": [
    "modelo3=glm(aprobacion~loan_amount_000s+Tract+Ingreso_medio_fam+Etnia+msamd_name+Ingreso_solicit+etnia_coapp+minorias+Sexo+Etnia, data=datos, family=binomial)\n",
    "summary(modelo3)"
   ]
  },
  {
   "cell_type": "code",
   "execution_count": 143,
   "id": "1c4a9b40-e722-4f53-bd15-a58af9443592",
   "metadata": {},
   "outputs": [
    {
     "data": {
      "text/html": [
       "0.0109393935460471"
      ],
      "text/latex": [
       "0.0109393935460471"
      ],
      "text/markdown": [
       "0.0109393935460471"
      ],
      "text/plain": [
       "[1] 0.01093939"
      ]
     },
     "metadata": {},
     "output_type": "display_data"
    }
   ],
   "source": [
    "R23=(modelo3$null.deviance-modelo3$deviance)/modelo3$null.deviance\n",
    "R23"
   ]
  },
  {
   "cell_type": "markdown",
   "id": "7f925d1f-0758-4e05-becd-9836fa13330d",
   "metadata": {},
   "source": [
    "Vamos a comprobar la tasa de falsos positivos de este modelo para ver si es un modelo adecuado o si se podría buscar algo mejor."
   ]
  },
  {
   "cell_type": "code",
   "execution_count": 144,
   "id": "a57426b3-c881-4008-9afe-f14a0a8d144b",
   "metadata": {},
   "outputs": [],
   "source": [
    "set.seed(123)  # Reproducibilidad\n",
    "indices <- createDataPartition(y = datos$Accion_tomada, p = 0.7, list = FALSE)\n",
    "\n",
    "train <- datos[indices, ]\n",
    "test <- datos[-indices, ]\n",
    "\n",
    "#esta particion nos servira para todos los modelos en los que veamos la tasa de falsos positivos"
   ]
  },
  {
   "cell_type": "code",
   "execution_count": 145,
   "id": "c68f5a7e-07e5-4755-9d35-6bb0f36904f3",
   "metadata": {},
   "outputs": [],
   "source": [
    "#eliminar Outliers\n",
    "Q1 <- quantile(train[[\"loan_amount_000s\"]], 0.25, na.rm = TRUE)\n",
    "Q3 <- quantile(train[[\"loan_amount_000s\"]], 0.75, na.rm = TRUE)\n",
    "IQR <- Q3 - Q1\n",
    "\n",
    "limite_inferior <- Q1 - 1.5 * IQR\n",
    "limite_superior <- Q3 + 1.5 * IQR\n",
    "\n",
    "# Filtrar outliers en train y test (usando límites de train)\n",
    "train_limpio <- train %>% \n",
    "  filter(.data[[\"loan_amount_000s\"]] >= limite_inferior & \n",
    "         .data[[\"loan_amount_000s\"]] <= limite_superior)\n",
    "\n",
    "test_limpio <- test %>% \n",
    "  filter(.data[[\"loan_amount_000s\"]] >= limite_inferior & \n",
    "         .data[[\"loan_amount_000s\"]] <= limite_superior)\n"
   ]
  },
  {
   "cell_type": "code",
   "execution_count": 146,
   "id": "980bfa3a-4f92-4d3b-b939-1e6b7f0459c8",
   "metadata": {},
   "outputs": [
    {
     "name": "stdout",
     "output_type": "stream",
     "text": [
      "Matriz de Confusión:\n",
      "           Predicho\n",
      "Real            0     1\n",
      "  Denegado  11805 25635\n",
      "  Haprobado 16453 55811\n",
      "\n",
      "Tasa de falsos positivos (Error Tipo 1): 0.685\n",
      "Tasa de falsos negativos (Error Tipo 2): 0.228"
     ]
    }
   ],
   "source": [
    "#prediccion y cálculo de falsos positivos\n",
    "\n",
    "predicciones_prob <- predict(modelo3, newdata = test_limpio, type = \"response\")\n",
    "predicciones_clase <- ifelse(predicciones_prob > 0.62, 1, 0)\n",
    "\n",
    "# Matriz de confusión\n",
    "matriz_confusion <- table(\n",
    "  Real = test_limpio$Accion_tomada,\n",
    "  Predicho = predicciones_clase\n",
    ")\n",
    "\n",
    "# Calcular tasa de falsos positivos\n",
    "FP <- matriz_confusion[1, 2]\n",
    "TN <- matriz_confusion[1, 1]\n",
    "FPR <- FP / (FP + TN)\n",
    "\n",
    "# Calcular tasa de falsos negativos\n",
    "FN= matriz_confusion[2, 1]\n",
    "TP <- matriz_confusion[2, 2]\n",
    "FNR <- FN / (FN + TP)\n",
    "\n",
    "# Resultados\n",
    "cat(\"Matriz de Confusión:\\n\")\n",
    "print(matriz_confusion)\n",
    "cat(\"\\nTasa de falsos positivos (Error Tipo 1):\", round(FPR, 3))\n",
    "cat(\"\\nTasa de falsos negativos (Error Tipo 2):\", round(FNR, 3))"
   ]
  },
  {
   "cell_type": "markdown",
   "id": "46623f2a-e5f5-43f5-bfc2-860e7c6bb646",
   "metadata": {},
   "source": [
    "## 3.4 Modelo final"
   ]
  },
  {
   "cell_type": "markdown",
   "id": "b5087161-ab35-4750-82fb-01792bb7709c",
   "metadata": {},
   "source": [
    "Como hemos comprobado, la tasa de falsos positivos del último modelo es muy alta. Por ello, queremos hacer un modelo que mejore esto.\n",
    "Al ver que tomando las 10 variables con mejores p-valores, el modelo no es acertado, así que queremos buscar otros métodos para coger variables que puedan\n",
    "ser significativas e importantes en un modelo. \n",
    "\n",
    "En este caso hemos decidido combinar lo visto en el EDA realizado en nuestro anterior trabajo y las correlaciones entre variables (tanto con la target, como entre las otras)."
   ]
  },
  {
   "cell_type": "code",
   "execution_count": 147,
   "id": "010b84f1-9bda-4378-be48-41dae57010d0",
   "metadata": {},
   "outputs": [],
   "source": [
    "variables$accion_binaria<- as.numeric(variables$Accion_tomada == \"Haprobado\")\n"
   ]
  },
  {
   "cell_type": "code",
   "execution_count": 148,
   "id": "09bf7765-77b5-4cdd-88f9-3de4dc23f4ec",
   "metadata": {},
   "outputs": [
    {
     "name": "stdout",
     "output_type": "stream",
     "text": [
      "[1] \"Correlaciones con Acción tomada\"\n",
      "                 Tract            rate_spread             population \n",
      "           0.051099638            0.075570577            0.009042690 \n",
      "              minorias       nro_viv_ocupadas nro_unid_residenciales \n",
      "          -0.032165869            0.021623458           -0.003166202 \n",
      "      loan_amount_000s      Ingreso_medio_fam        Ingreso_solicit \n",
      "           0.026670064            0.047229078            0.036405704 \n",
      "        accion_binaria \n",
      "           1.000000000 \n",
      "                              Tract  rate_spread   population     minorias\n",
      "Tract                   1.000000000 -0.023694454  0.046412529 -0.423279564\n",
      "rate_spread            -0.023694454  1.000000000 -0.007160709 -0.006580208\n",
      "population              0.046412529 -0.007160709  1.000000000  0.153935145\n",
      "minorias               -0.423279564 -0.006580208  0.153935145  1.000000000\n",
      "nro_viv_ocupadas        0.381055075 -0.007338393  0.765665074 -0.234703601\n",
      "nro_unid_residenciales  0.142542110  0.002582925  0.721759741 -0.194406265\n",
      "loan_amount_000s        0.163758999 -0.017528486  0.006130143 -0.017887937\n",
      "Ingreso_medio_fam      -0.001632146 -0.033441282 -0.015395900  0.266008743\n",
      "Ingreso_solicit         0.213043935 -0.016006010  0.003130608 -0.040798321\n",
      "accion_binaria          0.051099638  0.075570577  0.009042690 -0.032165869\n",
      "                       nro_viv_ocupadas nro_unid_residenciales loan_amount_000s\n",
      "Tract                       0.381055075            0.142542110      0.163758999\n",
      "rate_spread                -0.007338393            0.002582925     -0.017528486\n",
      "population                  0.765665074            0.721759741      0.006130143\n",
      "minorias                   -0.234703601           -0.194406265     -0.017887937\n",
      "nro_viv_ocupadas            1.000000000            0.850970705      0.039894597\n",
      "nro_unid_residenciales      0.850970705            1.000000000     -0.016216260\n",
      "loan_amount_000s            0.039894597           -0.016216260      1.000000000\n",
      "Ingreso_medio_fam          -0.063602853           -0.281406761      0.162619732\n",
      "Ingreso_solicit             0.043881597           -0.008974565      0.220097880\n",
      "accion_binaria              0.021623458           -0.003166202      0.026670064\n",
      "                       Ingreso_medio_fam Ingreso_solicit accion_binaria\n",
      "Tract                       -0.001632146     0.213043935    0.051099638\n",
      "rate_spread                 -0.033441282    -0.016006010    0.075570577\n",
      "population                  -0.015395900     0.003130608    0.009042690\n",
      "minorias                     0.266008743    -0.040798321   -0.032165869\n",
      "nro_viv_ocupadas            -0.063602853     0.043881597    0.021623458\n",
      "nro_unid_residenciales      -0.281406761    -0.008974565   -0.003166202\n",
      "loan_amount_000s             0.162619732     0.220097880    0.026670064\n",
      "Ingreso_medio_fam            1.000000000     0.156897216    0.047229078\n",
      "Ingreso_solicit              0.156897216     1.000000000    0.036405704\n",
      "accion_binaria               0.047229078     0.036405704    1.000000000\n"
     ]
    }
   ],
   "source": [
    "# Seleccionar solo variables numéricas\n",
    "numericas <- variables[, sapply(variables, is.numeric)]\n",
    "\n",
    "# Matriz de correlaciones con la variable objetivo\n",
    "correlaciones <- cor(numericas, use = \"complete.obs\")\n",
    "print('Correlaciones con Acción tomada')\n",
    "print(correlaciones[,\"accion_binaria\"])\n",
    "\n",
    "#variables_utiles <- names(which(abs(correlaciones[, \"accion_binaria\"]) > 0.03))\n",
    "#print(variables_utiles)\n",
    "#print('Correlaciones en general')\n",
    "print(correlaciones)"
   ]
  },
  {
   "cell_type": "code",
   "execution_count": 149,
   "id": "09b781ec-3309-4705-932f-397124e1768a",
   "metadata": {},
   "outputs": [
    {
     "data": {
      "text/plain": [
       "\n",
       "Call:\n",
       "glm(formula = aprobacion ~ tipo_propiedad + minorias + Ingreso_solicit * \n",
       "    loan_amount_000s + proposito + gravamen + Ingreso_solicit * \n",
       "    loan_type_name, family = binomial, data = variables)\n",
       "\n",
       "Coefficients:\n",
       "                                                   Estimate Std. Error z value\n",
       "(Intercept)                                       7.741e-01  1.915e-02  40.410\n",
       "tipo_propiedadManufactured housing               -4.149e-01  2.023e-02 -20.512\n",
       "minorias                                         -4.281e-03  2.268e-04 -18.872\n",
       "Ingreso_solicit                                   6.427e-04  4.821e-05  13.332\n",
       "loan_amount_000s                                  1.495e-04  2.481e-05   6.024\n",
       "propositoHome purchase                            5.624e-01  1.772e-02  31.741\n",
       "propositoRefinancing                             -4.136e-01  1.730e-02 -23.915\n",
       "gravamenNo tiene                                 -4.620e-01  3.286e-02 -14.062\n",
       "gravamensubord                                   -2.368e-01  2.409e-02  -9.830\n",
       "loan_type_nameFHA-insured                        -4.224e-01  1.965e-02 -21.496\n",
       "loan_type_nameFSA/RHS-guaranteed                 -4.677e-01  1.094e-01  -4.275\n",
       "loan_type_nameVA-guaranteed                      -2.830e-01  2.246e-02 -12.600\n",
       "Ingreso_solicit:loan_amount_000s                 -2.488e-07  3.306e-08  -7.525\n",
       "Ingreso_solicit:loan_type_nameFHA-insured         3.711e-04  2.082e-04   1.783\n",
       "Ingreso_solicit:loan_type_nameFSA/RHS-guaranteed  1.279e-03  1.703e-03   0.751\n",
       "Ingreso_solicit:loan_type_nameVA-guaranteed       7.658e-04  2.169e-04   3.531\n",
       "                                                 Pr(>|z|)    \n",
       "(Intercept)                                       < 2e-16 ***\n",
       "tipo_propiedadManufactured housing                < 2e-16 ***\n",
       "minorias                                          < 2e-16 ***\n",
       "Ingreso_solicit                                   < 2e-16 ***\n",
       "loan_amount_000s                                 1.70e-09 ***\n",
       "propositoHome purchase                            < 2e-16 ***\n",
       "propositoRefinancing                              < 2e-16 ***\n",
       "gravamenNo tiene                                  < 2e-16 ***\n",
       "gravamensubord                                    < 2e-16 ***\n",
       "loan_type_nameFHA-insured                         < 2e-16 ***\n",
       "loan_type_nameFSA/RHS-guaranteed                 1.91e-05 ***\n",
       "loan_type_nameVA-guaranteed                       < 2e-16 ***\n",
       "Ingreso_solicit:loan_amount_000s                 5.26e-14 ***\n",
       "Ingreso_solicit:loan_type_nameFHA-insured        0.074646 .  \n",
       "Ingreso_solicit:loan_type_nameFSA/RHS-guaranteed 0.452524    \n",
       "Ingreso_solicit:loan_type_nameVA-guaranteed      0.000414 ***\n",
       "---\n",
       "Signif. codes:  0 '***' 0.001 '**' 0.01 '*' 0.05 '.' 0.1 ' ' 1\n",
       "\n",
       "(Dispersion parameter for binomial family taken to be 1)\n",
       "\n",
       "    Null deviance: 488987  on 381428  degrees of freedom\n",
       "Residual deviance: 470305  on 381413  degrees of freedom\n",
       "  (510 observations deleted due to missingness)\n",
       "AIC: 470337\n",
       "\n",
       "Number of Fisher Scoring iterations: 4\n"
      ]
     },
     "metadata": {},
     "output_type": "display_data"
    }
   ],
   "source": [
    "modelo4 = glm(aprobacion~tipo_propiedad+minorias+Ingreso_solicit*loan_amount_000s+proposito+gravamen+Ingreso_solicit*loan_type_name, \n",
    "              data=variables, family = binomial)\n",
    "\n",
    "# Resumen del modelo\n",
    "summary(modelo4)"
   ]
  },
  {
   "cell_type": "code",
   "execution_count": 150,
   "id": "95025dcf-f8f2-4117-87d9-712ec92a5101",
   "metadata": {},
   "outputs": [
    {
     "name": "stdout",
     "output_type": "stream",
     "text": [
      "Matriz de Confusión:\n",
      "           Predicho\n",
      "Real            0     1\n",
      "  Denegado  24898 12542\n",
      "  Haprobado 33098 39166\n",
      "\n",
      "Tasa de falsos positivos (Error Tipo 1): 0.335\n",
      "Tasa de falsos negativos (Error Tipo 2): 0.458"
     ]
    },
    {
     "data": {
      "text/html": [
       "0.0382063262633145"
      ],
      "text/latex": [
       "0.0382063262633145"
      ],
      "text/markdown": [
       "0.0382063262633145"
      ],
      "text/plain": [
       "[1] 0.03820633"
      ]
     },
     "metadata": {},
     "output_type": "display_data"
    }
   ],
   "source": [
    "#prediccion y cálculo de falsos positivos\n",
    "\n",
    "predicciones_prob <- predict(modelo4, newdata = test_limpio, type = \"response\")\n",
    "predicciones_clase <- ifelse(predicciones_prob > 0.62, 1, 0)\n",
    "\n",
    "# Matriz de confusión\n",
    "matriz_confusion <- table(\n",
    "  Real = test_limpio$Accion_tomada,\n",
    "  Predicho = predicciones_clase\n",
    ")\n",
    "\n",
    "# Calcular tasa de falsos positivos\n",
    "FP <- matriz_confusion[1, 2]\n",
    "TN <- matriz_confusion[1, 1]\n",
    "FPR <- FP / (FP + TN)\n",
    "\n",
    "# Calcular tasa de falsos negativos\n",
    "FN= matriz_confusion[2, 1]\n",
    "TP <- matriz_confusion[2, 2]\n",
    "FNR <- FN / (FN + TP)\n",
    "\n",
    "# Resultados\n",
    "cat(\"Matriz de Confusión:\\n\")\n",
    "print(matriz_confusion)\n",
    "cat(\"\\nTasa de falsos positivos (Error Tipo 1):\", round(FPR, 3))\n",
    "cat(\"\\nTasa de falsos negativos (Error Tipo 2):\", round(FNR, 3))\n",
    "R24=(modelo4$null.deviance-modelo4$deviance)/modelo4$null.deviance\n",
    "R24"
   ]
  }
 ],
 "metadata": {
  "kernelspec": {
   "display_name": "R",
   "language": "R",
   "name": "ir"
  },
  "language_info": {
   "codemirror_mode": "r",
   "file_extension": ".r",
   "mimetype": "text/x-r-source",
   "name": "R",
   "pygments_lexer": "r",
   "version": "4.4.3"
  }
 },
 "nbformat": 4,
 "nbformat_minor": 5
}
